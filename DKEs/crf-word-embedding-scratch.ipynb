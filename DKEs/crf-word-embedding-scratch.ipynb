{
 "cells": [
  {
   "cell_type": "code",
   "execution_count": 1,
   "metadata": {},
   "outputs": [],
   "source": [
    "%matplotlib inline\n",
    "import matplotlib.pyplot as plt\n",
    "plt.style.use('ggplot')\n",
    "\n",
    "from itertools import chain\n",
    "\n",
    "import nltk\n",
    "import sklearn\n",
    "import scipy.stats\n",
    "from sklearn.metrics import make_scorer\n",
    "#from sklearn.cross_validation import cross_val_score\n",
    "#from sklearn.grid_search import RandomizedSearchCV\n",
    "\n",
    "import sklearn_crfsuite\n",
    "from sklearn_crfsuite import scorers\n",
    "from sklearn_crfsuite import metrics\n",
    "import pickle\n",
    "\n",
    "\n",
    "loc1='features1-train.txt'\n",
    "loc2='features1-test.txt'"
   ]
  },
  {
   "cell_type": "code",
   "execution_count": 2,
   "metadata": {},
   "outputs": [
    {
     "name": "stderr",
     "output_type": "stream",
     "text": [
      "C:\\Users\\shuvo\\Anaconda3\\lib\\site-packages\\gensim\\utils.py:1197: UserWarning: detected Windows; aliasing chunkize to chunkize_serial\n",
      "  warnings.warn(\"detected Windows; aliasing chunkize to chunkize_serial\")\n"
     ]
    }
   ],
   "source": [
    "from gensim.models import KeyedVectors\n",
    "import numpy as np\n",
    "# Load vectors directly from the file\n",
    "model1 = KeyedVectors.load_word2vec_format('GoogleNews-vectors-negative300.bin', binary=True)"
   ]
  },
  {
   "cell_type": "code",
   "execution_count": 3,
   "metadata": {},
   "outputs": [],
   "source": [
    "def get_features(word):\n",
    "    word=word.lower()\n",
    "    try:\n",
    "         vector=model1[word]\n",
    "    except:\n",
    "        # if the word is not in vocabulary,\n",
    "        # returns zeros array\n",
    "        vector=np.zeros(300,)\n",
    "\n",
    "    return vector "
   ]
  },
  {
   "cell_type": "code",
   "execution_count": 7,
   "metadata": {},
   "outputs": [],
   "source": [
    "def word2features(sent, i):\n",
    "    word = sent[i][0]\n",
    "    wordembdding=get_features(word)   ## word embedding vector \n",
    "    postag = sent[i][1]\n",
    "    tag1=sent[i][2]\n",
    "    tag2=sent[i][4]\n",
    "    tag3 = sent[i][5]\n",
    "\n",
    "\n",
    "    features = {\n",
    "        'bias': 1.0,\n",
    "        'word.lower()': word.lower(),\n",
    "        'word[-3:]': word[-3:],\n",
    "        'word[-2:]': word[-2:],\n",
    "        'word.isupper()': word.isupper(),\n",
    "        'word.istitle()': word.istitle(),\n",
    "        'word.isdigit()': word.isdigit(),\n",
    "        'postag': postag,\n",
    "        'postag[:2]': postag[:2],\n",
    "        'tag1': tag1,\n",
    "        'tag1[:2]': tag1[:2],\n",
    "        'tag2': tag2,\n",
    "        'tag2[:2]': tag2[:2],\n",
    "        'tag3': tag3,\n",
    "        'tag3[:2]': tag3[:2],\n",
    "        'wordlength': len(word),\n",
    "        'wordinitialcap': word[0].isupper(),\n",
    "        'wordmixedcap': len([x for x in word[1:] if x.isupper()])>0,\n",
    "        'wordallcap': len([x for x in word if x.isupper()])==len(word),\n",
    "        'distfromsentbegin': i\n",
    "    }\n",
    "\n",
    "    # here you add 300 features (one for each vector component)\n",
    "    for iv,value in enumerate(wordembdding):\n",
    "        features['v{}'.format(iv)]=value\n",
    "        \n",
    "    if i > 0:\n",
    "        word1 = sent[i-1][0]\n",
    "        postag1 = sent[i-1][1]\n",
    "        tag11=sent[i-1][2]\n",
    "        tag22=sent[i-1][4]\n",
    "        tag33 = sent[i-1][5]\n",
    "        features.update({\n",
    "            '-1:word.lower()': word1.lower(),\n",
    "            '-1:word.istitle()': word1.istitle(),\n",
    "            '-1:word.isupper()': word1.isupper(),\n",
    "            '-1:postag': postag1,\n",
    "            '-1:postag[:2]': postag1[:2],\n",
    "            '-1:tag1': tag1,\n",
    "            '-1:tag1[:2]': tag1[:2],\n",
    "            '-1:tag2': tag2,\n",
    "            '-1:tag2[:2]': tag2[:2],\n",
    "            '-1:tag3': tag3,\n",
    "            '-1:tag3[:2]': tag3[:2],\n",
    "            '-1:wordlength': len(word),\n",
    "            '-1:wordinitialcap': word[0].isupper(),\n",
    "            '-1:wordmixedcap': len([x for x in word[1:] if x.isupper()])>0,\n",
    "            '-1:wordallcap': len([x for x in word if x.isupper()])==len(word),\n",
    "        })\n",
    "    else:\n",
    "        features['BOS'] = True\n",
    "\n",
    "    if i < len(sent)-1:\n",
    "        word1 = sent[i+1][0]\n",
    "        postag1 = sent[i+1][1]\n",
    "        tag11=sent[i+1][2]\n",
    "        tag22=sent[i+1][4]\n",
    "        tag33 = sent[i+1][5]\n",
    "        features.update({\n",
    "            '+1:word.lower()': word1.lower(),\n",
    "            '+1:word.istitle()': word1.istitle(),\n",
    "            '+1:word.isupper()': word1.isupper(),\n",
    "            '+1:postag': postag1,\n",
    "            '+1:postag[:2]': postag1[:2],\n",
    "            '+1:tag1': tag1,\n",
    "            '+1:tag1[:2]': tag1[:2],\n",
    "            '+1:tag2': tag2,\n",
    "            '+1:tag2[:2]': tag2[:2],\n",
    "            '+1:tag3': tag3,\n",
    "            '+1:tag3[:2]': tag3[:2],\n",
    "            '+1:wordlength': len(word),\n",
    "            '+1:wordinitialcap': word[0].isupper(),\n",
    "            '+1:wordmixedcap': len([x for x in word[1:] if x.isupper()])>0,\n",
    "            '+1:wordallcap': len([x for x in word if x.isupper()])==len(word),\n",
    "        })\n",
    "    else:\n",
    "        features['EOS'] = True\n",
    "\n",
    "    return features\n",
    "\n",
    "\n",
    "def sent2features(sent):\n",
    "    return [word2features(sent, i) for i in range(len(sent))]\n",
    "\n",
    "def sent2labels(sent):\n",
    "    return [label for token, postag, tag1, label, tag2, tag3 in sent]\n",
    "\n",
    "def sent2tokens(sent):\n",
    "    return [token for token, postag, tag1, label, tag2, tag3, tag4, tag5 in sent]\n",
    "\n",
    "def convertCONLLFormJustExtractionSemEval1(loc):\n",
    "    dT=open(loc, encoding='utf-8').read().split(\"\\n\")[:-2]\n",
    "    sI = [-1] + [i for i, x in enumerate(dT) if not x.strip()] + [len(dT)]\n",
    "    sT1s = [dT[sI[i]+1:sI[i+1]] for i in range(len(sI)-1)]\n",
    "    sTs = []\n",
    "    for s in sT1s:\n",
    "        ts= [(x.split(\"\\t\")[0],x.split(\"\\t\")[1], x.split(\"\\t\")[2], x.split(\"\\t\")[3], x.split(\"\\t\")[4],x.split(\"\\t\")[5], x.split(\"\\t\")[6], x.split(\"\\t\")[7]) for x in s]\n",
    "        ts1= [(tss[0],tss[1],tss[2],tss[3], tss[6], tss[7]) for tss in ts]\n",
    "        sTs.append(ts1)\n",
    "    return sTs"
   ]
  },
  {
   "cell_type": "code",
   "execution_count": 8,
   "metadata": {},
   "outputs": [],
   "source": [
    "train_sents = convertCONLLFormJustExtractionSemEval1(loc1)\n",
    "test_sents = convertCONLLFormJustExtractionSemEval1(loc2)"
   ]
  },
  {
   "cell_type": "code",
   "execution_count": 9,
   "metadata": {},
   "outputs": [],
   "source": [
    "X_train = [sent2features(s) for s in train_sents]\n",
    "y_train = [sent2labels(s) for s in train_sents]\n",
    "\n",
    "X_test = [sent2features(s) for s in test_sents]\n",
    "y_test = [sent2labels(s) for s in test_sents]"
   ]
  },
  {
   "cell_type": "code",
   "execution_count": 10,
   "metadata": {},
   "outputs": [
    {
     "name": "stdout",
     "output_type": "stream",
     "text": [
      "Wall time: 21 s\n"
     ]
    },
    {
     "data": {
      "text/plain": [
       "CRF(algorithm='lbfgs', all_possible_states=None,\n",
       "  all_possible_transitions=True, averaging=None, c=None, c1=0.1, c2=0.1,\n",
       "  calibration_candidates=None, calibration_eta=None,\n",
       "  calibration_max_trials=None, calibration_rate=None,\n",
       "  calibration_samples=None, delta=None, epsilon=None, error_sensitive=None,\n",
       "  gamma=None, keep_tempfiles=None, linesearch=None, max_iterations=100,\n",
       "  max_linesearch=None, min_freq=None, model_filename=None,\n",
       "  num_memories=None, pa_type=None, period=None, trainer_cls=None,\n",
       "  variance=None, verbose=False)"
      ]
     },
     "execution_count": 10,
     "metadata": {},
     "output_type": "execute_result"
    }
   ],
   "source": [
    "%%time\n",
    "crf = sklearn_crfsuite.CRF(\n",
    "    algorithm='lbfgs',\n",
    "    c1=0.1,\n",
    "    c2=0.1,\n",
    "    max_iterations=100,\n",
    "    all_possible_transitions=True\n",
    ")\n",
    "crf.fit(X_train, y_train)"
   ]
  },
  {
   "cell_type": "code",
   "execution_count": 11,
   "metadata": {},
   "outputs": [],
   "source": [
    "y_pred = crf.predict(X_test)"
   ]
  },
  {
   "cell_type": "code",
   "execution_count": 12,
   "metadata": {},
   "outputs": [
    {
     "data": {
      "text/plain": [
       "['B-KP', 'I-KP']"
      ]
     },
     "execution_count": 12,
     "metadata": {},
     "output_type": "execute_result"
    }
   ],
   "source": [
    "labels = list(crf.classes_)\n",
    "labels.remove('O')\n",
    "labels"
   ]
  },
  {
   "cell_type": "code",
   "execution_count": 13,
   "metadata": {},
   "outputs": [
    {
     "data": {
      "text/plain": [
       "0.5768021442286417"
      ]
     },
     "execution_count": 13,
     "metadata": {},
     "output_type": "execute_result"
    }
   ],
   "source": [
    "metrics.flat_f1_score(y_test, y_pred,\n",
    "                      average='weighted', labels=labels)"
   ]
  },
  {
   "cell_type": "code",
   "execution_count": null,
   "metadata": {},
   "outputs": [],
   "source": []
  },
  {
   "cell_type": "code",
   "execution_count": null,
   "metadata": {},
   "outputs": [],
   "source": []
  },
  {
   "cell_type": "code",
   "execution_count": 2,
   "metadata": {},
   "outputs": [
    {
     "name": "stderr",
     "output_type": "stream",
     "text": [
      "C:\\Users\\shuvo\\Anaconda3\\lib\\site-packages\\gensim\\utils.py:1197: UserWarning: detected Windows; aliasing chunkize to chunkize_serial\n",
      "  warnings.warn(\"detected Windows; aliasing chunkize to chunkize_serial\")\n"
     ]
    }
   ],
   "source": [
    "from gensim.models.wrappers import FastText\n",
    "import gensim\n",
    "model = gensim.models.KeyedVectors.load_word2vec_format('wiki-news-300d-1M.vec')"
   ]
  },
  {
   "cell_type": "code",
   "execution_count": 3,
   "metadata": {},
   "outputs": [],
   "source": [
    "def get_features1(word):\n",
    "    word=word.lower()\n",
    "    try:\n",
    "         vector=model[word]\n",
    "    except:\n",
    "        # if the word is not in vocabulary,\n",
    "        # returns zeros array\n",
    "        vector=np.zeros(300,)\n",
    "\n",
    "    return vector "
   ]
  },
  {
   "cell_type": "code",
   "execution_count": 4,
   "metadata": {},
   "outputs": [],
   "source": [
    "def word2features(sent, i):\n",
    "    word = sent[i][0]\n",
    "    wordembdding=get_features1(word)   ## word embedding vector \n",
    "    postag = sent[i][1]\n",
    "    tag1=sent[i][2]\n",
    "    tag2=sent[i][4]\n",
    "    tag3 = sent[i][5]\n",
    "\n",
    "\n",
    "    features = {\n",
    "        'bias': 1.0,\n",
    "        'word.lower()': word.lower(),\n",
    "        'word[-3:]': word[-3:],\n",
    "        'word[-2:]': word[-2:],\n",
    "        'word.isupper()': word.isupper(),\n",
    "        'word.istitle()': word.istitle(),\n",
    "        'word.isdigit()': word.isdigit(),\n",
    "        'postag': postag,\n",
    "        'postag[:2]': postag[:2],\n",
    "        'tag1': tag1,\n",
    "        'tag1[:2]': tag1[:2],\n",
    "        'tag2': tag2,\n",
    "        'tag2[:2]': tag2[:2],\n",
    "        'tag3': tag3,\n",
    "        'tag3[:2]': tag3[:2],\n",
    "        'wordlength': len(word),\n",
    "        'wordinitialcap': word[0].isupper(),\n",
    "        'wordmixedcap': len([x for x in word[1:] if x.isupper()])>0,\n",
    "        'wordallcap': len([x for x in word if x.isupper()])==len(word),\n",
    "        'distfromsentbegin': i\n",
    "    }\n",
    "\n",
    "    # here you add 300 features (one for each vector component)\n",
    "    for iv,value in enumerate(wordembdding):\n",
    "        features['v{}'.format(iv)]=value\n",
    "        \n",
    "    if i > 0:\n",
    "        word1 = sent[i-1][0]\n",
    "        wordembdding1=get_features1(word1) \n",
    "        postag1 = sent[i-1][1]\n",
    "        tag11=sent[i-1][2]\n",
    "        tag22=sent[i-1][4]\n",
    "        tag33 = sent[i-1][5]\n",
    "        features.update({\n",
    "            '-1:word.lower()': word1.lower(),\n",
    "            '-1:word.istitle()': word1.istitle(),\n",
    "            '-1:word.isupper()': word1.isupper(),\n",
    "            '-1:postag': postag1,\n",
    "            '-1:postag[:2]': postag1[:2],\n",
    "            '-1:tag1': tag1,\n",
    "            '-1:tag1[:2]': tag1[:2],\n",
    "            '-1:tag2': tag2,\n",
    "            '-1:tag2[:2]': tag2[:2],\n",
    "            '-1:tag3': tag3,\n",
    "            '-1:tag3[:2]': tag3[:2],\n",
    "            '-1:wordlength': len(word),\n",
    "            '-1:wordinitialcap': word[0].isupper(),\n",
    "            '-1:wordmixedcap': len([x for x in word[1:] if x.isupper()])>0,\n",
    "            '-1:wordallcap': len([x for x in word if x.isupper()])==len(word),\n",
    "        })\n",
    "    else:\n",
    "        features['BOS'] = True\n",
    "\n",
    "    if i < len(sent)-1:\n",
    "        word1 = sent[i+1][0]\n",
    "        wordembdding1=get_features1(word1) \n",
    "        postag1 = sent[i+1][1]\n",
    "        tag11=sent[i+1][2]\n",
    "        tag22=sent[i+1][4]\n",
    "        tag33 = sent[i+1][5]\n",
    "        features.update({\n",
    "            '+1:word.lower()': word1.lower(),\n",
    "            '+1:word.istitle()': word1.istitle(),\n",
    "            '+1:word.isupper()': word1.isupper(),\n",
    "            '+1:postag': postag1,\n",
    "            '+1:postag[:2]': postag1[:2],\n",
    "            '+1:tag1': tag1,\n",
    "            '+1:tag1[:2]': tag1[:2],\n",
    "            '+1:tag2': tag2,\n",
    "            '+1:tag2[:2]': tag2[:2],\n",
    "            '+1:tag3': tag3,\n",
    "            '+1:tag3[:2]': tag3[:2],\n",
    "            '+1:wordlength': len(word),\n",
    "            '+1:wordinitialcap': word[0].isupper(),\n",
    "            '+1:wordmixedcap': len([x for x in word[1:] if x.isupper()])>0,\n",
    "            '+1:wordallcap': len([x for x in word if x.isupper()])==len(word),\n",
    "        })\n",
    "    else:\n",
    "        features['EOS'] = True\n",
    "\n",
    "    return features\n",
    "\n",
    "\n",
    "def sent2features(sent):\n",
    "    return [word2features(sent, i) for i in range(len(sent))]\n",
    "\n",
    "def sent2labels(sent):\n",
    "    return [label for token, postag, tag1, label, tag2, tag3 in sent]\n",
    "\n",
    "def sent2tokens(sent):\n",
    "    return [token for token, postag, tag1, label, tag2, tag3, tag4, tag5 in sent]\n",
    "\n",
    "def convertCONLLFormJustExtractionSemEval1(loc):\n",
    "    dT=open(loc, encoding='utf-8').read().split(\"\\n\")[:-2]\n",
    "    sI = [-1] + [i for i, x in enumerate(dT) if not x.strip()] + [len(dT)]\n",
    "    sT1s = [dT[sI[i]+1:sI[i+1]] for i in range(len(sI)-1)]\n",
    "    sTs = []\n",
    "    for s in sT1s:\n",
    "        ts= [(x.split(\"\\t\")[0],x.split(\"\\t\")[1], x.split(\"\\t\")[2], x.split(\"\\t\")[3], x.split(\"\\t\")[4],x.split(\"\\t\")[5], x.split(\"\\t\")[6], x.split(\"\\t\")[7]) for x in s]\n",
    "        ts1= [(tss[0],tss[1],tss[2],tss[3], tss[6], tss[7]) for tss in ts]\n",
    "        sTs.append(ts1)\n",
    "    return sTs"
   ]
  },
  {
   "cell_type": "code",
   "execution_count": 5,
   "metadata": {},
   "outputs": [],
   "source": [
    "train_sents = convertCONLLFormJustExtractionSemEval1(loc1)\n",
    "test_sents = convertCONLLFormJustExtractionSemEval1(loc2)"
   ]
  },
  {
   "cell_type": "code",
   "execution_count": 7,
   "metadata": {},
   "outputs": [],
   "source": [
    "import numpy as np\n",
    "X_train = [sent2features(s) for s in train_sents]\n",
    "y_train = [sent2labels(s) for s in train_sents]\n",
    "\n",
    "X_test = [sent2features(s) for s in test_sents]\n",
    "y_test = [sent2labels(s) for s in test_sents]"
   ]
  },
  {
   "cell_type": "code",
   "execution_count": 70,
   "metadata": {},
   "outputs": [],
   "source": [
    "del crf"
   ]
  },
  {
   "cell_type": "code",
   "execution_count": 8,
   "metadata": {},
   "outputs": [
    {
     "name": "stdout",
     "output_type": "stream",
     "text": [
      "Wall time: 28.8 s\n",
      "Parser   : 610 ms\n"
     ]
    },
    {
     "data": {
      "text/plain": [
       "CRF(algorithm='lbfgs', all_possible_states=None,\n",
       "  all_possible_transitions=True, averaging=None, c=None, c1=0.1, c2=0.1,\n",
       "  calibration_candidates=None, calibration_eta=None,\n",
       "  calibration_max_trials=None, calibration_rate=None,\n",
       "  calibration_samples=None, delta=None, epsilon=None, error_sensitive=None,\n",
       "  gamma=None, keep_tempfiles=None, linesearch=None, max_iterations=100,\n",
       "  max_linesearch=None, min_freq=None, model_filename=None,\n",
       "  num_memories=None, pa_type=None, period=None, trainer_cls=None,\n",
       "  variance=None, verbose=False)"
      ]
     },
     "execution_count": 8,
     "metadata": {},
     "output_type": "execute_result"
    }
   ],
   "source": [
    "%%time\n",
    "crf = sklearn_crfsuite.CRF(\n",
    "    algorithm='lbfgs',\n",
    "    c1=0.1,\n",
    "    c2=0.1,\n",
    "    max_iterations=100,\n",
    "    all_possible_transitions=True\n",
    ")\n",
    "crf.fit(X_train, y_train)"
   ]
  },
  {
   "cell_type": "code",
   "execution_count": 9,
   "metadata": {},
   "outputs": [],
   "source": [
    "y_pred = crf.predict(X_test)"
   ]
  },
  {
   "cell_type": "code",
   "execution_count": 10,
   "metadata": {},
   "outputs": [
    {
     "data": {
      "text/plain": [
       "['B-KP', 'I-KP']"
      ]
     },
     "execution_count": 10,
     "metadata": {},
     "output_type": "execute_result"
    }
   ],
   "source": [
    "labels = list(crf.classes_)\n",
    "labels.remove('O')\n",
    "labels"
   ]
  },
  {
   "cell_type": "code",
   "execution_count": 11,
   "metadata": {},
   "outputs": [
    {
     "data": {
      "text/plain": [
       "0.5792522118534152"
      ]
     },
     "execution_count": 11,
     "metadata": {},
     "output_type": "execute_result"
    }
   ],
   "source": [
    "metrics.flat_f1_score(y_test, y_pred,\n",
    "                      average='weighted', labels=labels)"
   ]
  },
  {
   "cell_type": "code",
   "execution_count": 12,
   "metadata": {},
   "outputs": [
    {
     "name": "stdout",
     "output_type": "stream",
     "text": [
      "              precision    recall  f1-score   support\n",
      "\n",
      "        B-KP      0.520     0.544     0.531       390\n",
      "        I-KP      0.662     0.563     0.609       630\n",
      "\n",
      "   micro avg      0.601     0.556     0.577      1020\n",
      "   macro avg      0.591     0.554     0.570      1020\n",
      "weighted avg      0.608     0.556     0.579      1020\n",
      "\n"
     ]
    }
   ],
   "source": [
    "sorted_labels = sorted(labels,key=lambda name: (name[1:], name[0]))\n",
    "print((metrics.flat_classification_report(y_test, y_pred, labels=sorted_labels, digits=3)))"
   ]
  },
  {
   "cell_type": "code",
   "execution_count": 13,
   "metadata": {},
   "outputs": [],
   "source": [
    "pickle.dump(crf,open(\"linear-chain-crf-enhanced.model-new-word2vec-fasttack.pickle\",\"wb\"), protocol = 0, fix_imports = True)"
   ]
  },
  {
   "cell_type": "code",
   "execution_count": null,
   "metadata": {},
   "outputs": [],
   "source": []
  },
  {
   "cell_type": "code",
   "execution_count": null,
   "metadata": {},
   "outputs": [],
   "source": []
  },
  {
   "cell_type": "code",
   "execution_count": null,
   "metadata": {},
   "outputs": [],
   "source": []
  },
  {
   "cell_type": "code",
   "execution_count": null,
   "metadata": {},
   "outputs": [],
   "source": []
  },
  {
   "cell_type": "code",
   "execution_count": 31,
   "metadata": {},
   "outputs": [],
   "source": [
    
    "from bert_embedding import BertEmbedding\n",
    "\n",
    "bert_abstract = \"\"\"We introduce a new language representation model called BERT, which stands for Bidirectional Encoder Representations from Transformers.\n",
    " Unlike recent language representation models, BERT is designed to pre-train deep bidirectional representations by jointly conditioning on both left and right context in all layers.\n",
    " As a result, the pre-trained BERT representations can be fine-tuned with just one additional output layer to create state-of-the-art models for a wide range of tasks, such as question answering and language inference, without substantial task-specific architecture modifications. \n",
    "BERT is conceptually simple and empirically powerful. \n",
    "It obtains new state-of-the-art results on eleven natural language processing tasks, including pushing the GLUE benchmark to 80.4% (7.6% absolute improvement), MultiNLI accuracy to 86.7 (5.6% absolute improvement) and the SQuAD v1.1 question answering Test F1 to 93.2 (1.5% absolute improvement), outperforming human performance by 2.0%.\"\"\"\n",
    "sentences = bert_abstract.split('\\n')\n",
    "bert_embedding = BertEmbedding()\n",
    "result = bert_embedding(sentences)"
    
   ]
  },
  {
   "cell_type": "code",
   "execution_count": 33,
   "metadata": {},
   "outputs": [
    {
     "data": {
      "text/plain": [
       "5"
      ]
     },
     "execution_count": 33,
     "metadata": {},
     "output_type": "execute_result"
    }
   ],
   "source": [
    "len(result)"
   ]
  },
  {
   "cell_type": "code",
   "execution_count": 34,
   "metadata": {},
   "outputs": [
    {
     "data": {
      "text/plain": [
       "2"
      ]
     },
     "execution_count": 34,
     "metadata": {},
     "output_type": "execute_result"
    }
   ],
   "source": [
    "len(result[0])"
   ]
  },
  {
   "cell_type": "code",
   "execution_count": null,
   "metadata": {},
   "outputs": [],
   "source": []
  },
  {
   "cell_type": "code",
   "execution_count": null,
   "metadata": {},
   "outputs": [],
   "source": []
  }
 ],
 "metadata": {
  "kernelspec": {
   "display_name": "Python 3",
   "language": "python",
   "name": "python3"
  },
  "language_info": {
   "codemirror_mode": {
    "name": "ipython",
    "version": 3
   },
   "file_extension": ".py",
   "mimetype": "text/x-python",
   "name": "python",
   "nbconvert_exporter": "python",
   "pygments_lexer": "ipython3",
   "version": "3.7.6"
  }
 },
 "nbformat": 4,
 "nbformat_minor": 2
}
