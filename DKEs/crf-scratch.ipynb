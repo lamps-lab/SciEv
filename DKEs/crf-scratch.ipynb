{
 "cells": [
  {
   "cell_type": "code",
   "execution_count": 1,
   "metadata": {},
   "outputs": [],
   "source": [
    "%matplotlib inline\n",
    "import matplotlib.pyplot as plt\n",
    "plt.style.use('ggplot')\n",
    "\n",
    "from itertools import chain\n",
    "\n",
    "import nltk\n",
    "import sklearn\n",
    "import scipy.stats\n",
    "from sklearn.metrics import make_scorer\n",
    "#from sklearn.cross_validation import cross_val_score\n",
    "#from sklearn.grid_search import RandomizedSearchCV\n",
    "\n",
    "import sklearn_crfsuite\n",
    "from sklearn_crfsuite import scorers\n",
    "from sklearn_crfsuite import metrics\n",
    "import pickle"
   ]
  },
  {
   "cell_type": "code",
   "execution_count": 2,
   "metadata": {},
   "outputs": [],
   "source": [
    "loc1='features1-train.txt'\n",
    "loc2='features1-test.txt'"
   ]
  },
  {
   "cell_type": "code",
   "execution_count": 3,
   "metadata": {},
   "outputs": [],
   "source": [
    "def word2features(sent, i):\n",
    "    word = sent[i][0]\n",
    "    postag = sent[i][1]\n",
    "    tag1=sent[i][2]\n",
    "    tag2=sent[i][4]\n",
    "    tag3 = sent[i][5]\n",
    "\n",
    "    features = {\n",
    "        'bias': 1.0,\n",
    "        'word.lower()': word.lower(),\n",
    "        'word[-3:]': word[-3:],\n",
    "        'word[-2:]': word[-2:],\n",
    "        'word.isupper()': word.isupper(),\n",
    "        'word.istitle()': word.istitle(),\n",
    "        'word.isdigit()': word.isdigit(),\n",
    "        'postag': postag,\n",
    "        'postag[:2]': postag[:2],\n",
    "        'tag1': tag1,\n",
    "        'tag1[:2]': tag1[:2],\n",
    "        'tag2': tag2,\n",
    "        'tag2[:2]': tag2[:2],\n",
    "        'tag3': tag3,\n",
    "        'tag3[:2]': tag3[:2],\n",
    "        'wordlength': len(word),\n",
    "        'wordinitialcap': word[0].isupper(),\n",
    "        'wordmixedcap': len([x for x in word[1:] if x.isupper()])>0,\n",
    "        'wordallcap': len([x for x in word if x.isupper()])==len(word),\n",
    "        'distfromsentbegin': i\n",
    "    }\n",
    "    if i > 0:\n",
    "        word1 = sent[i-1][0]\n",
    "        postag1 = sent[i-1][1]\n",
    "        tag11=sent[i-1][2]\n",
    "        tag22=sent[i-1][4]\n",
    "        tag33 = sent[i-1][5]\n",
    "        features.update({\n",
    "            '-1:word.lower()': word1.lower(),\n",
    "            '-1:word.istitle()': word1.istitle(),\n",
    "            '-1:word.isupper()': word1.isupper(),\n",
    "            '-1:postag': postag1,\n",
    "            '-1:postag[:2]': postag1[:2],\n",
    "            '-1:tag1': tag1,\n",
    "            '-1:tag1[:2]': tag1[:2],\n",
    "            '-1:tag2': tag2,\n",
    "            '-1:tag2[:2]': tag2[:2],\n",
    "            '-1:tag3': tag3,\n",
    "            '-1:tag3[:2]': tag3[:2],\n",
    "            '-1:wordlength': len(word),\n",
    "            '-1:wordinitialcap': word[0].isupper(),\n",
    "            '-1:wordmixedcap': len([x for x in word[1:] if x.isupper()])>0,\n",
    "            '-1:wordallcap': len([x for x in word if x.isupper()])==len(word),\n",
    "        })\n",
    "    else:\n",
    "        features['BOS'] = True\n",
    "\n",
    "    if i < len(sent)-1:\n",
    "        word1 = sent[i+1][0]\n",
    "        postag1 = sent[i+1][1]\n",
    "        tag11=sent[i+1][2]\n",
    "        tag22=sent[i+1][4]\n",
    "        tag33 = sent[i+1][5]\n",
    "        features.update({\n",
    "            '+1:word.lower()': word1.lower(),\n",
    "            '+1:word.istitle()': word1.istitle(),\n",
    "            '+1:word.isupper()': word1.isupper(),\n",
    "            '+1:postag': postag1,\n",
    "            '+1:postag[:2]': postag1[:2],\n",
    "            '+1:tag1': tag1,\n",
    "            '+1:tag1[:2]': tag1[:2],\n",
    "            '+1:tag2': tag2,\n",
    "            '+1:tag2[:2]': tag2[:2],\n",
    "            '+1:tag3': tag3,\n",
    "            '+1:tag3[:2]': tag3[:2],\n",
    "            '+1:wordlength': len(word),\n",
    "            '+1:wordinitialcap': word[0].isupper(),\n",
    "            '+1:wordmixedcap': len([x for x in word[1:] if x.isupper()])>0,\n",
    "            '+1:wordallcap': len([x for x in word if x.isupper()])==len(word),\n",
    "        })\n",
    "    else:\n",
    "        features['EOS'] = True\n",
    "\n",
    "    return features\n",
    "\n",
    "\n",
    "def sent2features(sent):\n",
    "    return [word2features(sent, i) for i in range(len(sent))]\n",
    "\n",
    "def sent2labels(sent):\n",
    "    return [label for token, postag, tag1, label, tag2, tag3 in sent]\n",
    "\n",
    "def sent2tokens(sent):\n",
    "    return [token for token, postag, tag1, label, tag2, tag3, tag4, tag5 in sent]\n",
    "\n",
    "def convertCONLLFormJustExtractionSemEval1(loc):\n",
    "    dT=open(loc, encoding='utf-8').read().split(\"\\n\")[:-2]\n",
    "    sI = [-1] + [i for i, x in enumerate(dT) if not x.strip()] + [len(dT)]\n",
    "    sT1s = [dT[sI[i]+1:sI[i+1]] for i in range(len(sI)-1)]\n",
    "    sTs = []\n",
    "    for s in sT1s:\n",
    "        ts= [(x.split(\"\\t\")[0],x.split(\"\\t\")[1], x.split(\"\\t\")[2], x.split(\"\\t\")[3], x.split(\"\\t\")[4],x.split(\"\\t\")[5], x.split(\"\\t\")[6], x.split(\"\\t\")[7]) for x in s]\n",
    "        ts1= [(tss[0],tss[1],tss[2],tss[3], tss[6], tss[7]) for tss in ts]\n",
    "        sTs.append(ts1)\n",
    "    return sTs"
   ]
  },
  {
   "cell_type": "code",
   "execution_count": 4,
   "metadata": {},
   "outputs": [],
   "source": [
    "train_sents = convertCONLLFormJustExtractionSemEval1(loc1)\n",
    "test_sents = convertCONLLFormJustExtractionSemEval1(loc2)"
   ]
  },
  {
   "cell_type": "code",
   "execution_count": 5,
   "metadata": {},
   "outputs": [],
   "source": [
    "X_train = [sent2features(s) for s in train_sents]\n",
    "y_train = [sent2labels(s) for s in train_sents]\n",
    "\n",
    "X_test = [sent2features(s) for s in test_sents]\n",
    "y_test = [sent2labels(s) for s in test_sents]"
   ]
  },
  {
   "cell_type": "code",
   "execution_count": 6,
   "metadata": {},
   "outputs": [
    {
     "name": "stdout",
     "output_type": "stream",
     "text": [
      "Wall time: 4.75 s\n"
     ]
    },
    {
     "data": {
      "text/plain": [
       "CRF(algorithm='lbfgs', all_possible_states=None,\n",
       "  all_possible_transitions=True, averaging=None, c=None, c1=0.1, c2=0.1,\n",
       "  calibration_candidates=None, calibration_eta=None,\n",
       "  calibration_max_trials=None, calibration_rate=None,\n",
       "  calibration_samples=None, delta=None, epsilon=None, error_sensitive=None,\n",
       "  gamma=None, keep_tempfiles=None, linesearch=None, max_iterations=100,\n",
       "  max_linesearch=None, min_freq=None, model_filename=None,\n",
       "  num_memories=None, pa_type=None, period=None, trainer_cls=None,\n",
       "  variance=None, verbose=False)"
      ]
     },
     "execution_count": 6,
     "metadata": {},
     "output_type": "execute_result"
    }
   ],
   "source": [
    "%%time\n",
    "crf = sklearn_crfsuite.CRF(\n",
    "    algorithm='lbfgs',\n",
    "    c1=0.1,\n",
    "    c2=0.1,\n",
    "    max_iterations=100,\n",
    "    all_possible_transitions=True\n",
    ")\n",
    "crf.fit(X_train, y_train)"
   ]
  },
  {
   "cell_type": "code",
   "execution_count": 7,
   "metadata": {},
   "outputs": [],
   "source": [
    "y_pred = crf.predict(X_test)"
   ]
  },
  {
   "cell_type": "code",
   "execution_count": 8,
   "metadata": {},
   "outputs": [
    {
     "data": {
      "text/plain": [
       "['B-KP', 'I-KP']"
      ]
     },
     "execution_count": 8,
     "metadata": {},
     "output_type": "execute_result"
    }
   ],
   "source": [
    "labels = list(crf.classes_)\n",
    "labels.remove('O')\n",
    "labels"
   ]
  },
  {
   "cell_type": "code",
   "execution_count": 9,
   "metadata": {},
   "outputs": [
    {
     "data": {
      "text/plain": [
       "0.5758797831170186"
      ]
     },
     "execution_count": 9,
     "metadata": {},
     "output_type": "execute_result"
    }
   ],
   "source": [
    "metrics.flat_f1_score(y_test, y_pred,\n",
    "                      average='weighted', labels=labels)"
   ]
  },
  {
   "cell_type": "code",
   "execution_count": 10,
   "metadata": {},
   "outputs": [
    {
     "name": "stdout",
     "output_type": "stream",
     "text": [
      "              precision    recall  f1-score   support\n",
      "\n",
      "        B-KP      0.529     0.546     0.537       390\n",
      "        I-KP      0.673     0.541     0.600       630\n",
      "\n",
      "   micro avg      0.609     0.543     0.574      1020\n",
      "   macro avg      0.601     0.544     0.569      1020\n",
      "weighted avg      0.618     0.543     0.576      1020\n",
      "\n"
     ]
    }
   ],
   "source": [
    "sorted_labels = sorted(labels,key=lambda name: (name[1:], name[0]))\n",
    "print((metrics.flat_classification_report(y_test, y_pred, labels=sorted_labels, digits=3)))"
   ]
  },
  {
   "cell_type": "code",
   "execution_count": 11,
   "metadata": {},
   "outputs": [],
   "source": [
    "pickle.dump(crf,open(\"linear-chain-crf-enhanced.model-new.pickle\",\"wb\"), protocol = 0, fix_imports = True)"
   ]
  },
  {
   "cell_type": "code",
   "execution_count": null,
   "metadata": {},
   "outputs": [],
   "source": []
  },
  {
   "cell_type": "code",
   "execution_count": 19,
   "metadata": {},
   "outputs": [],
   "source": [
    "vectors=get_features('word')"
   ]
  },
  {
   "cell_type": "code",
   "execution_count": 32,
   "metadata": {},
   "outputs": [],
   "source": [
    "vectors=np.expand_dims(vectors, axis=1)"
   ]
  },
  {
   "cell_type": "code",
   "execution_count": 33,
   "metadata": {},
   "outputs": [
    {
     "data": {
      "text/plain": [
       "(300, 1)"
      ]
     },
     "execution_count": 33,
     "metadata": {},
     "output_type": "execute_result"
    }
   ],
   "source": [
    "vectors.shape"
   ]
  },
  {
   "cell_type": "code",
   "execution_count": 12,
   "metadata": {},
   "outputs": [
    {
     "name": "stderr",
     "output_type": "stream",
     "text": [
      "C:\\Users\\shuvo\\Anaconda3\\lib\\site-packages\\gensim\\utils.py:1197: UserWarning: detected Windows; aliasing chunkize to chunkize_serial\n",
      "  warnings.warn(\"detected Windows; aliasing chunkize to chunkize_serial\")\n"
     ]
    }
   ],
   "source": [
    "from gensim.models import KeyedVectors\n",
    "import numpy as np\n",
    "# Load vectors directly from the file\n",
    "model1 = KeyedVectors.load_word2vec_format('GoogleNews-vectors-negative300.bin', binary=True)"
   ]
  },
  {
   "cell_type": "code",
   "execution_count": 34,
   "metadata": {},
   "outputs": [],
   "source": [
    "def get_features(word):\n",
    "    word=word.lower()\n",
    "    try:\n",
    "        vectors=model1[word]\n",
    "    except:\n",
    "        vectors=0\n",
    "    #vectors=np.array(vectors)\n",
    "    #vectors=vectors[0]\n",
    "    vectors=np.expand_dims(vectors, axis=1)\n",
    "    return vectors"
   ]
  },
  {
   "cell_type": "code",
   "execution_count": 35,
   "metadata": {},
   "outputs": [],
   "source": [
    "def word2features(sent, i):\n",
    "    word = sent[i][0]\n",
    "    wordembdding=get_features(word)\n",
    "    #wordembdding=np.array(wordembdding)\n",
    "    #wordembdding= \n",
    "    #wordembdding=wordembdding[0]\n",
    "    postag = sent[i][1]\n",
    "    tag1=sent[i][2]\n",
    "    tag2=sent[i][4]\n",
    "    tag3 = sent[i][5]\n",
    "    \n",
    "\n",
    "    features = {\n",
    "        'bias': 1.0,\n",
    "        'word.lower()': word.lower(),\n",
    "        'word[-3:]': word[-3:],\n",
    "        'word[-2:]': word[-2:],\n",
    "        'wordembdding': wordembdding,\n",
    "        'word.isupper()': word.isupper(),\n",
    "        'word.istitle()': word.istitle(),\n",
    "        'word.isdigit()': word.isdigit(),\n",
    "        'postag': postag,\n",
    "        'postag[:2]': postag[:2],\n",
    "        'tag1': tag1,\n",
    "        'tag1[:2]': tag1[:2],\n",
    "        'tag2': tag2,\n",
    "        'tag2[:2]': tag2[:2],\n",
    "        'tag3': tag3,\n",
    "        'tag3[:2]': tag3[:2],\n",
    "        'wordlength': len(word),\n",
    "        'wordinitialcap': word[0].isupper(),\n",
    "        'wordmixedcap': len([x for x in word[1:] if x.isupper()])>0,\n",
    "        'wordallcap': len([x for x in word if x.isupper()])==len(word),\n",
    "        'distfromsentbegin': i\n",
    "    }\n",
    "    if i > 0:\n",
    "        word1 = sent[i-1][0]\n",
    "        wordembdding1= get_features(word1)\n",
    "        #wordembdding1=np.array(wordembdding1)\n",
    "        #wordembdding1=f2(wordembdding1)\n",
    "        postag1 = sent[i-1][1]\n",
    "        tag11=sent[i-1][2]\n",
    "        tag22=sent[i-1][4]\n",
    "        tag33 = sent[i-1][5]\n",
    "        features.update({\n",
    "            '-1:word.lower()': word1.lower(),\n",
    "            '-1:word.istitle()': word1.istitle(),\n",
    "            '-1:word.isupper()': word1.isupper(),\n",
    "            '-1:wordembdding': wordembdding1,\n",
    "            '-1:postag': postag1,\n",
    "            '-1:postag[:2]': postag1[:2],\n",
    "            '-1:tag1': tag1,\n",
    "            '-1:tag1[:2]': tag1[:2],\n",
    "            '-1:tag2': tag2,\n",
    "            '-1:tag2[:2]': tag2[:2],\n",
    "            '-1:tag3': tag3,\n",
    "            '-1:tag3[:2]': tag3[:2],\n",
    "            '-1:wordlength': len(word),\n",
    "            '-1:wordinitialcap': word[0].isupper(),\n",
    "            '-1:wordmixedcap': len([x for x in word[1:] if x.isupper()])>0,\n",
    "            '-1:wordallcap': len([x for x in word if x.isupper()])==len(word),\n",
    "        })\n",
    "    else:\n",
    "        features['BOS'] = True\n",
    "\n",
    "    if i < len(sent)-1:\n",
    "        word1 = sent[i+1][0]\n",
    "        wordembdding1= get_features(word1)\n",
    "        #wordembdding1= get_features(word1)\n",
    "        #wordembdding1=np.array(wordembdding1)\n",
    "        #wordembdding1=f2(wordembdding)\n",
    "        postag1 = sent[i+1][1]\n",
    "        tag11=sent[i+1][2]\n",
    "        tag22=sent[i+1][4]\n",
    "        tag33 = sent[i+1][5]\n",
    "        features.update({\n",
    "            '+1:word.lower()': word1.lower(),\n",
    "            '+1:word.istitle()': word1.istitle(),\n",
    "            '+1:word.isupper()': word1.isupper(),\n",
    "            '+1:wordembdding': wordembdding1,\n",
    "            '+1:postag': postag1,\n",
    "            '+1:postag[:2]': postag1[:2],\n",
    "            '+1:tag1': tag1,\n",
    "            '+1:tag1[:2]': tag1[:2],\n",
    "            '+1:tag2': tag2,\n",
    "            '+1:tag2[:2]': tag2[:2],\n",
    "            '+1:tag3': tag3,\n",
    "            '+1:tag3[:2]': tag3[:2],\n",
    "            '+1:wordlength': len(word),\n",
    "            '+1:wordinitialcap': word[0].isupper(),\n",
    "            '+1:wordmixedcap': len([x for x in word[1:] if x.isupper()])>0,\n",
    "            '+1:wordallcap': len([x for x in word if x.isupper()])==len(word),\n",
    "        })\n",
    "    else:\n",
    "        features['EOS'] = True\n",
    "\n",
    "    return features\n",
    "\n",
    "\n",
    "def sent2features(sent):\n",
    "    return [word2features(sent, i) for i in range(len(sent))]\n",
    "\n",
    "def sent2labels(sent):\n",
    "    return [label for token, postag, tag1, label, tag2, tag3 in sent]\n",
    "\n",
    "def sent2tokens(sent):\n",
    "    return [token for token, postag, tag1, label, tag2, tag3, tag4, tag5 in sent]\n",
    "\n",
    "def convertCONLLFormJustExtractionSemEval1(loc):\n",
    "    dT=open(loc, encoding='utf-8').read().split(\"\\n\")[:-2]\n",
    "    sI = [-1] + [i for i, x in enumerate(dT) if not x.strip()] + [len(dT)]\n",
    "    sT1s = [dT[sI[i]+1:sI[i+1]] for i in range(len(sI)-1)]\n",
    "    sTs = []\n",
    "    for s in sT1s:\n",
    "        ts= [(x.split(\"\\t\")[0],x.split(\"\\t\")[1], x.split(\"\\t\")[2], x.split(\"\\t\")[3], x.split(\"\\t\")[4],x.split(\"\\t\")[5], x.split(\"\\t\")[6], x.split(\"\\t\")[7]) for x in s]\n",
    "        ts1= [(tss[0],tss[1],tss[2],tss[3], tss[6], tss[7]) for tss in ts]\n",
    "        sTs.append(ts1)\n",
    "    return sTs"
   ]
  },
  {
   "cell_type": "code",
   "execution_count": null,
   "metadata": {},
   "outputs": [],
   "source": [
    "def word2features(sent, i):\n",
    "    word = sent[i][0]\n",
    "    wordembdding=get_features(word)   ## word embedding vector \n",
    "    postag = sent[i][1]\n",
    "    tag1=sent[i][2]\n",
    "    tag2=sent[i][4]\n",
    "    tag3 = sent[i][5]\n",
    "\n",
    "\n",
    "    features = {\n",
    "        'bias': 1.0,\n",
    "        'word.lower()': word.lower(),\n",
    "        'word[-3:]': word[-3:],\n",
    "        'word[-2:]': word[-2:],\n",
    "        'word.isupper()': word.isupper(),\n",
    "        'word.istitle()': word.istitle(),\n",
    "        'word.isdigit()': word.isdigit(),\n",
    "        'postag': postag,\n",
    "        'postag[:2]': postag[:2],\n",
    "        'tag1': tag1,\n",
    "        'tag1[:2]': tag1[:2],\n",
    "        'tag2': tag2,\n",
    "        'tag2[:2]': tag2[:2],\n",
    "        'tag3': tag3,\n",
    "        'tag3[:2]': tag3[:2],\n",
    "        'wordlength': len(word),\n",
    "        'wordinitialcap': word[0].isupper(),\n",
    "        'wordmixedcap': len([x for x in word[1:] if x.isupper()])>0,\n",
    "        'wordallcap': len([x for x in word if x.isupper()])==len(word),\n",
    "        'distfromsentbegin': i\n",
    "    }\n",
    "\n",
    "    # here you add 300 features (one for each vector component)\n",
    "    for iv,value in enumerate(wordembdding):\n",
    "        features['v{}'.format(iv)]=value"
   ]
  },
  {
   "cell_type": "code",
   "execution_count": 36,
   "metadata": {},
   "outputs": [],
   "source": [
    "train_sents = convertCONLLFormJustExtractionSemEval1(loc1)\n",
    "test_sents = convertCONLLFormJustExtractionSemEval1(loc2)"
   ]
  },
  {
   "cell_type": "code",
   "execution_count": 37,
   "metadata": {},
   "outputs": [
    {
     "name": "stderr",
     "output_type": "stream",
     "text": [
      "C:\\Users\\shuvo\\Anaconda3\\lib\\site-packages\\ipykernel_launcher.py:9: DeprecationWarning: Both axis > a.ndim and axis < -a.ndim - 1 are deprecated and will raise an AxisError in the future.\n",
      "  if __name__ == '__main__':\n"
     ]
    }
   ],
   "source": [
    "X_train = [sent2features(s) for s in train_sents]\n",
    "y_train = [sent2labels(s) for s in train_sents]\n",
    "\n",
    "X_test = [sent2features(s) for s in test_sents]\n",
    "y_test = [sent2labels(s) for s in test_sents]"
   ]
  },
  {
   "cell_type": "code",
   "execution_count": null,
   "metadata": {},
   "outputs": [],
   "source": []
  },
  {
   "cell_type": "code",
   "execution_count": 39,
   "metadata": {},
   "outputs": [
    {
     "ename": "TypeError",
     "evalue": "only size-1 arrays can be converted to Python scalars",
     "output_type": "error",
     "traceback": [
      "\u001b[1;31m---------------------------------------------------------------------------\u001b[0m",
      "\u001b[1;31mTypeError\u001b[0m                                 Traceback (most recent call last)",
      "\u001b[1;32m<timed exec>\u001b[0m in \u001b[0;36m<module>\u001b[1;34m\u001b[0m\n",
      "\u001b[1;32m~\\Anaconda3\\lib\\site-packages\\sklearn_crfsuite\\estimator.py\u001b[0m in \u001b[0;36mfit\u001b[1;34m(self, X, y, X_dev, y_dev)\u001b[0m\n\u001b[0;32m    312\u001b[0m \u001b[1;33m\u001b[0m\u001b[0m\n\u001b[0;32m    313\u001b[0m         \u001b[1;32mfor\u001b[0m \u001b[0mxseq\u001b[0m\u001b[1;33m,\u001b[0m \u001b[0myseq\u001b[0m \u001b[1;32min\u001b[0m \u001b[0mtrain_data\u001b[0m\u001b[1;33m:\u001b[0m\u001b[1;33m\u001b[0m\u001b[1;33m\u001b[0m\u001b[0m\n\u001b[1;32m--> 314\u001b[1;33m             \u001b[0mtrainer\u001b[0m\u001b[1;33m.\u001b[0m\u001b[0mappend\u001b[0m\u001b[1;33m(\u001b[0m\u001b[0mxseq\u001b[0m\u001b[1;33m,\u001b[0m \u001b[0myseq\u001b[0m\u001b[1;33m)\u001b[0m\u001b[1;33m\u001b[0m\u001b[1;33m\u001b[0m\u001b[0m\n\u001b[0m\u001b[0;32m    315\u001b[0m \u001b[1;33m\u001b[0m\u001b[0m\n\u001b[0;32m    316\u001b[0m         \u001b[1;32mif\u001b[0m \u001b[0mself\u001b[0m\u001b[1;33m.\u001b[0m\u001b[0mverbose\u001b[0m\u001b[1;33m:\u001b[0m\u001b[1;33m\u001b[0m\u001b[1;33m\u001b[0m\u001b[0m\n",
      "\u001b[1;32mpycrfsuite\\_pycrfsuite.pyx\u001b[0m in \u001b[0;36mpycrfsuite._pycrfsuite.BaseTrainer.append\u001b[1;34m()\u001b[0m\n",
      "\u001b[1;32m~\\Anaconda3\\lib\\site-packages\\pycrfsuite\\_pycrfsuite.cp36-win_amd64.pyd\u001b[0m in \u001b[0;36mvector.from_py.__pyx_convert_vector_from_py_std_3a__3a_string\u001b[1;34m()\u001b[0m\n",
      "\u001b[1;32mpycrfsuite\\_pycrfsuite.pyx\u001b[0m in \u001b[0;36mpycrfsuite._pycrfsuite.to_item\u001b[1;34m()\u001b[0m\n",
      "\u001b[1;32mpycrfsuite\\_pycrfsuite.pyx\u001b[0m in \u001b[0;36mpycrfsuite._pycrfsuite.to_item\u001b[1;34m()\u001b[0m\n",
      "\u001b[1;32mpycrfsuite\\_pycrfsuite.pyx\u001b[0m in \u001b[0;36mpycrfsuite._pycrfsuite.to_item\u001b[1;34m()\u001b[0m\n",
      "\u001b[1;32mpycrfsuite\\_pycrfsuite.pyx\u001b[0m in \u001b[0;36mpycrfsuite._pycrfsuite.to_item\u001b[1;34m()\u001b[0m\n",
      "\u001b[1;32mpycrfsuite\\_pycrfsuite.pyx\u001b[0m in \u001b[0;36mpycrfsuite._pycrfsuite.to_item\u001b[1;34m()\u001b[0m\n",
      "\u001b[1;32mpycrfsuite\\_pycrfsuite.pyx\u001b[0m in \u001b[0;36mpycrfsuite._pycrfsuite.to_item\u001b[1;34m()\u001b[0m\n",
      "\u001b[1;32mpycrfsuite\\_pycrfsuite.pyx\u001b[0m in \u001b[0;36mpycrfsuite._pycrfsuite.to_item\u001b[1;34m()\u001b[0m\n",
      "\u001b[1;32mpycrfsuite\\_pycrfsuite.pyx\u001b[0m in \u001b[0;36mpycrfsuite._pycrfsuite.to_item\u001b[1;34m()\u001b[0m\n",
      "\u001b[1;32mpycrfsuite\\_pycrfsuite.pyx\u001b[0m in \u001b[0;36mpycrfsuite._pycrfsuite.to_item\u001b[1;34m()\u001b[0m\n",
      "\u001b[1;32mpycrfsuite\\_pycrfsuite.pyx\u001b[0m in \u001b[0;36mpycrfsuite._pycrfsuite.to_item\u001b[1;34m()\u001b[0m\n",
      "\u001b[1;32mpycrfsuite\\_pycrfsuite.pyx\u001b[0m in \u001b[0;36mpycrfsuite._pycrfsuite.to_item\u001b[1;34m()\u001b[0m\n",
      "\u001b[1;31mTypeError\u001b[0m: only size-1 arrays can be converted to Python scalars"
     ]
    }
   ],
   "source": [
    "%%time\n",
    "crf = sklearn_crfsuite.CRF(\n",
    "    algorithm='lbfgs',\n",
    "    c1=0.1,\n",
    "    c2=0.1,\n",
    "    max_iterations=100,\n",
    "    all_possible_transitions=True\n",
    ")\n",
    "crf.fit(X_train, y_train)"
   ]
  },
  {
   "cell_type": "code",
   "execution_count": 26,
   "metadata": {},
   "outputs": [],
   "source": [
    "a=[1]"
   ]
  },
  {
   "cell_type": "code",
   "execution_count": null,
   "metadata": {},
   "outputs": [],
   "source": []
  },
  {
   "cell_type": "code",
   "execution_count": 3,
   "metadata": {},
   "outputs": [],
   "source": [
    "def word2features(sent, i):\n",
    "    word = sent[i][0]\n",
    "    postag = sent[i][1]\n",
    "    tag1=sent[i][2]\n",
    "    tag2=sent[i][4]\n",
    "    tag3 = sent[i][5]\n",
    "\n",
    "    features = {\n",
    "        'bias': 1.0,\n",
    "        'word.lower()': word.lower(),\n",
    "        'word[-3:]': word[-3:],\n",
    "        'word[-2:]': word[-2:],\n",
    "        'word.isupper()': word.isupper(),\n",
    "        'word.istitle()': word.istitle(),\n",
    "        'word.isdigit()': word.isdigit(),\n",
    "        'postag': postag,\n",
    "        'postag[:2]': postag[:2],\n",
    "        'tag1': tag1,\n",
    "        'tag1[:2]': tag1[:2],\n",
    "        'tag2': tag2,\n",
    "        'tag2[:2]': tag2[:2],\n",
    "        'tag3': tag3,\n",
    "        'tag3[:2]': tag3[:2],\n",
    "        'wordlength': len(word),\n",
    "        'wordinitialcap': word[0].isupper(),\n",
    "        'wordmixedcap': len([x for x in word[1:] if x.isupper()])>0,\n",
    "        'wordallcap': len([x for x in word if x.isupper()])==len(word),\n",
    "        'distfromsentbegin': i\n",
    "    }\n",
    "    if i > 0:\n",
    "        word1 = sent[i-1][0]\n",
    "        postag1 = sent[i-1][1]\n",
    "        tag11=sent[i-1][2]\n",
    "        tag22=sent[i-1][4]\n",
    "        tag33 = sent[i-1][5]\n",
    "        features.update({\n",
    "            '-1:word.lower()': word1.lower(),\n",
    "            '-1:word.istitle()': word1.istitle(),\n",
    "            '-1:word.isupper()': word1.isupper(),\n",
    "            '-1:postag': postag1,\n",
    "            '-1:postag[:2]': postag1[:2],\n",
    "            '-1:tag1': tag1,\n",
    "            '-1:tag1[:2]': tag1[:2],\n",
    "            '-1:tag2': tag2,\n",
    "            '-1:tag2[:2]': tag2[:2],\n",
    "            '-1:tag3': tag3,\n",
    "            '-1:tag3[:2]': tag3[:2],\n",
    "            '-1:wordlength': len(word),\n",
    "            '-1:wordinitialcap': word[0].isupper(),\n",
    "            '-1:wordmixedcap': len([x for x in word[1:] if x.isupper()])>0,\n",
    "            '-1:wordallcap': len([x for x in word if x.isupper()])==len(word),\n",
    "        })\n",
    "    else:\n",
    "        features['BOS'] = True\n",
    "\n",
    "    if i < len(sent)-1:\n",
    "        word1 = sent[i+1][0]\n",
    "        postag1 = sent[i+1][1]\n",
    "        tag11=sent[i+1][2]\n",
    "        tag22=sent[i+1][4]\n",
    "        tag33 = sent[i+1][5]\n",
    "        features.update({\n",
    "            '+1:word.lower()': word1.lower(),\n",
    "            '+1:word.istitle()': word1.istitle(),\n",
    "            '+1:word.isupper()': word1.isupper(),\n",
    "            '+1:postag': postag1,\n",
    "            '+1:postag[:2]': postag1[:2],\n",
    "            '+1:tag1': tag1,\n",
    "            '+1:tag1[:2]': tag1[:2],\n",
    "            '+1:tag2': tag2,\n",
    "            '+1:tag2[:2]': tag2[:2],\n",
    "            '+1:tag3': tag3,\n",
    "            '+1:tag3[:2]': tag3[:2],\n",
    "            '+1:wordlength': len(word),\n",
    "            '+1:wordinitialcap': word[0].isupper(),\n",
    "            '+1:wordmixedcap': len([x for x in word[1:] if x.isupper()])>0,\n",
    "            '+1:wordallcap': len([x for x in word if x.isupper()])==len(word),\n",
    "        })\n",
    "    else:\n",
    "        features['EOS'] = True\n",
    "    \n",
    "    if i > 2:\n",
    "        word1 = sent[i-2][0]\n",
    "        postag1 = sent[i-2][1]\n",
    "        tag11=sent[i-2][2]\n",
    "        tag22=sent[i-2][4]\n",
    "        tag33 = sent[i-1][5]\n",
    "        features.update({\n",
    "            '-1:word.lower()': word1.lower(),\n",
    "            '-1:word.istitle()': word1.istitle(),\n",
    "            '-1:word.isupper()': word1.isupper(),\n",
    "            '-1:postag': postag1,\n",
    "            '-1:postag[:2]': postag1[:2],\n",
    "            '-1:tag1': tag1,\n",
    "            '-1:tag1[:2]': tag1[:2],\n",
    "            '-1:tag2': tag2,\n",
    "            '-1:tag2[:2]': tag2[:2],\n",
    "            '-1:tag3': tag3,\n",
    "            '-1:tag3[:2]': tag3[:2],\n",
    "            '-1:wordlength': len(word),\n",
    "            '-1:wordinitialcap': word[0].isupper(),\n",
    "            '-1:wordmixedcap': len([x for x in word[1:] if x.isupper()])>0,\n",
    "            '-1:wordallcap': len([x for x in word if x.isupper()])==len(word),\n",
    "        })\n",
    "    else:\n",
    "        features['BOS'] = True\n",
    "        \n",
    "    if i < len(sent)-2:\n",
    "        word1 = sent[i+2][0]\n",
    "        postag1 = sent[i+2][1]\n",
    "        tag11=sent[i+2][2]\n",
    "        tag22=sent[i+2][4]\n",
    "        tag33 = sent[i+2][5]\n",
    "        features.update({\n",
    "            '+1:word.lower()': word1.lower(),\n",
    "            '+1:word.istitle()': word1.istitle(),\n",
    "            '+1:word.isupper()': word1.isupper(),\n",
    "            '+1:postag': postag1,\n",
    "            '+1:postag[:2]': postag1[:2],\n",
    "            '+1:tag1': tag1,\n",
    "            '+1:tag1[:2]': tag1[:2],\n",
    "            '+1:tag2': tag2,\n",
    "            '+1:tag2[:2]': tag2[:2],\n",
    "            '+1:tag3': tag3,\n",
    "            '+1:tag3[:2]': tag3[:2],\n",
    "            '+1:wordlength': len(word),\n",
    "            '+1:wordinitialcap': word[0].isupper(),\n",
    "            '+1:wordmixedcap': len([x for x in word[1:] if x.isupper()])>0,\n",
    "            '+1:wordallcap': len([x for x in word if x.isupper()])==len(word),\n",
    "        })\n",
    "    else:\n",
    "        features['EOS'] = True\n",
    "\n",
    "    return features\n",
    "\n",
    "\n",
    "def sent2features(sent):\n",
    "    return [word2features(sent, i) for i in range(len(sent))]\n",
    "\n",
    "def sent2labels(sent):\n",
    "    return [label for token, postag, tag1, label, tag2, tag3 in sent]\n",
    "\n",
    "def sent2tokens(sent):\n",
    "    return [token for token, postag, tag1, label, tag2, tag3, tag4, tag5 in sent]\n",
    "\n",
    "def convertCONLLFormJustExtractionSemEval1(loc):\n",
    "    dT=open(loc, encoding='utf-8').read().split(\"\\n\")[:-2]\n",
    "    sI = [-1] + [i for i, x in enumerate(dT) if not x.strip()] + [len(dT)]\n",
    "    sT1s = [dT[sI[i]+1:sI[i+1]] for i in range(len(sI)-1)]\n",
    "    sTs = []\n",
    "    for s in sT1s:\n",
    "        ts= [(x.split(\"\\t\")[0],x.split(\"\\t\")[1], x.split(\"\\t\")[2], x.split(\"\\t\")[3], x.split(\"\\t\")[4],x.split(\"\\t\")[5], x.split(\"\\t\")[6], x.split(\"\\t\")[7]) for x in s]\n",
    "        ts1= [(tss[0],tss[1],tss[2],tss[3], tss[6], tss[7]) for tss in ts]\n",
    "        sTs.append(ts1)\n",
    "    return sTs"
   ]
  },
  {
   "cell_type": "code",
   "execution_count": 4,
   "metadata": {},
   "outputs": [],
   "source": [
    "train_sents = convertCONLLFormJustExtractionSemEval1(loc1)\n",
    "test_sents = convertCONLLFormJustExtractionSemEval1(loc2)\n",
    "\n",
    "X_train = [sent2features(s) for s in train_sents]\n",
    "y_train = [sent2labels(s) for s in train_sents]\n",
    "\n",
    "X_test = [sent2features(s) for s in test_sents]\n",
    "y_test = [sent2labels(s) for s in test_sents]"
   ]
  },
  {
   "cell_type": "code",
   "execution_count": 5,
   "metadata": {},
   "outputs": [
    {
     "name": "stdout",
     "output_type": "stream",
     "text": [
      "Wall time: 5.48 s\n"
     ]
    },
    {
     "data": {
      "text/plain": [
       "CRF(algorithm='lbfgs', all_possible_states=None,\n",
       "  all_possible_transitions=True, averaging=None, c=None, c1=0.1, c2=0.1,\n",
       "  calibration_candidates=None, calibration_eta=None,\n",
       "  calibration_max_trials=None, calibration_rate=None,\n",
       "  calibration_samples=None, delta=None, epsilon=None, error_sensitive=None,\n",
       "  gamma=None, keep_tempfiles=None, linesearch=None, max_iterations=100,\n",
       "  max_linesearch=None, min_freq=None, model_filename=None,\n",
       "  num_memories=None, pa_type=None, period=None, trainer_cls=None,\n",
       "  variance=None, verbose=False)"
      ]
     },
     "execution_count": 5,
     "metadata": {},
     "output_type": "execute_result"
    }
   ],
   "source": [
    "%%time\n",
    "crf = sklearn_crfsuite.CRF(\n",
    "    algorithm='lbfgs',\n",
    "    c1=0.1,\n",
    "    c2=0.1,\n",
    "    max_iterations=100,\n",
    "    all_possible_transitions=True\n",
    ")\n",
    "crf.fit(X_train, y_train)"
   ]
  },
  {
   "cell_type": "code",
   "execution_count": 6,
   "metadata": {},
   "outputs": [],
   "source": [
    "y_pred = crf.predict(X_test)"
   ]
  },
  {
   "cell_type": "code",
   "execution_count": 7,
   "metadata": {},
   "outputs": [
    {
     "data": {
      "text/plain": [
       "['B-KP', 'I-KP']"
      ]
     },
     "execution_count": 7,
     "metadata": {},
     "output_type": "execute_result"
    }
   ],
   "source": [
    "labels = list(crf.classes_)\n",
    "labels.remove('O')\n",
    "labels"
   ]
  },
  {
   "cell_type": "code",
   "execution_count": 8,
   "metadata": {},
   "outputs": [
    {
     "data": {
      "text/plain": [
       "0.5645220992658448"
      ]
     },
     "execution_count": 8,
     "metadata": {},
     "output_type": "execute_result"
    }
   ],
   "source": [
    "metrics.flat_f1_score(y_test, y_pred,\n",
    "                      average='weighted', labels=labels)"
   ]
  },
  {
   "cell_type": "code",
   "execution_count": 9,
   "metadata": {},
   "outputs": [
    {
     "name": "stdout",
     "output_type": "stream",
     "text": [
      "              precision    recall  f1-score   support\n",
      "\n",
      "        B-KP      0.521     0.531     0.526       390\n",
      "        I-KP      0.663     0.529     0.588       630\n",
      "\n",
      "   micro avg      0.601     0.529     0.563      1020\n",
      "   macro avg      0.592     0.530     0.557      1020\n",
      "weighted avg      0.609     0.529     0.565      1020\n",
      "\n"
     ]
    }
   ],
   "source": [
    "sorted_labels = sorted(labels,key=lambda name: (name[1:], name[0]))\n",
    "print((metrics.flat_classification_report(y_test, y_pred, labels=sorted_labels, digits=3)))"
   ]
  },
  {
   "cell_type": "code",
   "execution_count": null,
   "metadata": {},
   "outputs": [],
   "source": []
  }
 ],
 "metadata": {
  "kernelspec": {
   "display_name": "Python 3",
   "language": "python",
   "name": "python3"
  },
  "language_info": {
   "codemirror_mode": {
    "name": "ipython",
    "version": 3
   },
   "file_extension": ".py",
   "mimetype": "text/x-python",
   "name": "python",
   "nbconvert_exporter": "python",
   "pygments_lexer": "ipython3",
   "version": "3.7.6"
  }
 },
 "nbformat": 4,
 "nbformat_minor": 2
}
